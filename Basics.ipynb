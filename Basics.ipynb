{
 "cells": [
  {
   "cell_type": "markdown",
   "metadata": {},
   "source": [
    "## Basic concepts\n",
    "\n",
    "By now, CRPropa is installed together with the Juypter interface and we are ready to begin."
   ]
  },
  {
   "cell_type": "markdown",
   "metadata": {},
   "source": [
    "### Candidates and modules\n",
    "\n",
    "To use CRPropa commands, tools and classes within Pyhton, the first step is to import it into the main namespace:"
   ]
  },
  {
   "cell_type": "code",
   "execution_count": 2,
   "metadata": {},
   "outputs": [],
   "source": [
    "from crpropa import *"
   ]
  },
  {
   "cell_type": "markdown",
   "metadata": {},
   "source": [
    "or, alternatively, if one needs better control over different commands and modules `import crpropa as crp` which will require adding the `crp.` prefix before every command or class initiated from CRPropa.\n",
    "\n",
    "The principal object of interest, a cosmic ray, within the framework is called a **candidate**. The candidate is a particle described by an associated physical state. The particle state can be defined with many different properties, but two of the most fundamental ones are the particle's **position** and the particle's movement **direction**. The actual state of a candidate is referred as \"current\" one.\n",
    "Here is an example where Vector3d is a CRPropa object representing a 3D vector:"
   ]
  },
  {
   "cell_type": "code",
   "execution_count": 3,
   "metadata": {},
   "outputs": [],
   "source": [
    "c = Candidate()\n",
    "c.current.setPosition(Vector3d(10, 0, 0))\n",
    "c.current.setDirection(Vector3d(-1, 0, 0))"
   ]
  },
  {
   "cell_type": "markdown",
   "metadata": {},
   "source": [
    "The candidate itself is a passive object and only external mechanisms, called **modules**, can change its state.\n",
    "The first example of such a module in the context of the framework application is the rectilinear propagational module - ``SimplePropagation``. Its purpose, as the name suggests, is to propagate the candidate in the simplest way, i.e., to change the candidate's position following a straight line in the defined direction."
   ]
  },
  {
   "cell_type": "code",
   "execution_count": 7,
   "metadata": {
    "collapsed": true
   },
   "outputs": [],
   "source": [
    "module = SimplePropagation()"
   ]
  },
  {
   "cell_type": "markdown",
   "metadata": {},
   "source": [
    "To describe how modules act on candidates, one should recall those numerical simulations necessarily discretise the continuity of the real world with computational **steps**. The candidate state is changed by modules in steps. In every step, the module process candidate with the **process method**.\n",
    "\n",
    "Before continuing with processing, it is worth mentioning that modules can or even must take arguments during the initialization stage to set-up or change their default behaviour and it depends on the specific module which settings can be defined or modified. The modules' settings are described in [CRPropa documentation](http://crpropa.github.io/CRPropa3/annotated.html).\n",
    "\n",
    "In the already introduced module, ``SimplePropagation``, one could change the minimum and the maximum distance for which the candidate can jump within one step. These changes can also be done later, after the initialization, with so-called **setters** (set methods) or just checked with **getters** (get methods)."
   ]
  },
  {
   "cell_type": "code",
   "execution_count": 4,
   "metadata": {},
   "outputs": [
    {
     "name": "stdout",
     "output_type": "stream",
     "text": [
      "2.0\n"
     ]
    }
   ],
   "source": [
    "module = SimplePropagation(1, 3) # (minStep, maxStep)\n",
    "module.setMaximumStep(2)\n",
    "print(module.getMaximumStep())"
   ]
  },
  {
   "cell_type": "markdown",
   "metadata": {},
   "source": [
    "The process method can be used in a conjunction with any kind of loop, e.g."
   ]
  },
  {
   "cell_type": "code",
   "execution_count": 5,
   "metadata": {},
   "outputs": [
    {
     "name": "stdout",
     "output_type": "stream",
     "text": [
      "In step 1. position is Vector(9, 0, 0)\n",
      "In step 2. position is Vector(7, 0, 0)\n",
      "In step 3. position is Vector(5, 0, 0)\n",
      "In step 4. position is Vector(3, 0, 0)\n",
      "In step 5. position is Vector(1, 0, 0)\n"
     ]
    }
   ],
   "source": [
    "for i in range(5):\n",
    "    module.process(c)\n",
    "    print(\"In step {}. position is {}\".format(i+1, c.current.getPosition()))"
   ]
  },
  {
   "cell_type": "markdown",
   "metadata": {},
   "source": [
    "After five iterations, the position is changed five times in the negative direction of the x-axis which is defined by ``setDirection()``. What needs an additional explanation is the propagated distance in these steps. To avoid the clash between different active modules in determining the step size, modules modify the candidate's current step with the minimum prescribed step while setting the maximum one for the next round. In that way, the next step would be bounded by the module which required the smallest maximum step. In case of the current example, the first step was 1 (minStep argument in ``SimplePropagation``), while all the later steps are 2 (given by ``setMaximumStep`` above).\n",
    "\n",
    "At this point, before introducing a new physical content, a slight digression in a form physical units is needed. All physical quantities and parameters used in the code are in expressed the SI units. For example, those numbers, 1, 2 and 3, in the above example are 1, 2 and 3 meter(s). From now on, the explicit units will be used to avoid possible confusion, and it is advisable to do the same in every CRPropa code. If some units are not defined within the framework, one could use external python library such as [pint](http://pint.readthedocs.io) to carry out the conversions."
   ]
  },
  {
   "cell_type": "code",
   "execution_count": 10,
   "metadata": {},
   "outputs": [
    {
     "name": "stdout",
     "output_type": "stream",
     "text": [
      "1 Mpc is 3.085677581491367e+22 meters in the international system of units, while 1 GeV is 1.602176487e-10 joules\n"
     ]
    }
   ],
   "source": [
    "print(\"1 Mpc is {} meters in the international \\\n",
    "system of units, while 1 GeV is {} joules\".format(1*Mpc, 1*GeV))"
   ]
  },
  {
   "cell_type": "markdown",
   "metadata": {},
   "source": [
    "Note the next example how to use pint:"
   ]
  },
  {
   "cell_type": "code",
   "execution_count": 6,
   "metadata": {},
   "outputs": [
    {
     "name": "stdout",
     "output_type": "stream",
     "text": [
      "Flux: 1 eV^-1 m^-2 s^-1 sr^-1 = 3.1556925974699995e+22 GeV^-1 km^-2 year^-1 sr^-1\n"
     ]
    }
   ],
   "source": [
    "from pint import UnitRegistry\n",
    "ureg = UnitRegistry()\n",
    "\n",
    "def convertunits(unitstring, convertto):\n",
    "        unitfrom = ureg.parse_expression(unitstring)\n",
    "        unitto = unitfrom.to(ureg.parse_expression(convertto))\n",
    "        return unitto.magnitude\n",
    "\n",
    "fromunits = \"eV^-1 m^-2 s^-1 sr^-1\"\n",
    "tounits = \"GeV^-1 km^-2 year^-1 sr^-1\"\n",
    "print(\"Flux: 1 {1} = {0} {2}\".format(\n",
    "    1*convertunits(fromunits, tounits), fromunits, tounits))"
   ]
  },
  {
   "cell_type": "markdown",
   "metadata": {},
   "source": [
    "The candidate can virtually be any classified particle or nucleus with the assumption that its energy is dominating its mass, i.e., $pc=\\sqrt{E^2-(mc^2)^2}\\approx E$, so that it travels at the speed of light in the observer reference frame. The reason behind it is that the framework by design does not explicitly take into account time. The time parameter is merely recovered from the propagated length. Thus, a propagation module is always required since any other physical module stays inactive when time does not pass.\n",
    "\n",
    "The particles are distinguished by the particle ID (PID) which inherits a numbering scheme defined by the Particle Data Group. CRPropa uses the [HepPID](http://lcgapp.cern.ch/project/simu/HepPDT/HepPDT.2.06.01/HepPID.pdf) implementation of the scheme. For the nuclei identification, CRPropa has its own implementation which is also specified by [PDG](http://pdg.lbl.gov/2008/reviews/rpp2008-rev-monte-carlo-numbering.pdf).\n",
    "\n",
    "After demonstrating ``SimplePropagation`` module, ``NuclearDecay`` is yet another module which is relatively self-contained, hence, can be presented without too much overhead. ``NuclearDecay`` is a module which represents the decay of a nucleus. It will act only on unstable nuclei, of course. Let's examine the following lines which employ the mentioned concepts:"
   ]
  },
  {
   "cell_type": "code",
   "execution_count": 81,
   "metadata": {},
   "outputs": [
    {
     "name": "stdout",
     "output_type": "stream",
     "text": [
      "The mean length until the decay is 1.64 pc\n"
     ]
    }
   ],
   "source": [
    "def decay_distance(pid, E):\n",
    "    c = Candidate(pid, E)\n",
    "    c.current.setPosition(Vector3d(0, 0, 0)*Mpc)\n",
    "    c.current.setDirection(Vector3d(1, 0, 0))\n",
    "    init_id = c.current.getId()\n",
    "\n",
    "    module1 = SimplePropagation(0.01*pc, 10*pc)\n",
    "    module2 = NuclearDecay()\n",
    "\n",
    "    for step in range(200):\n",
    "        module1.process(c)\n",
    "        module2.process(c)\n",
    "        if c.current.getId() != init_id:\n",
    "            return c.current.getPosition().getR()\n",
    "        \n",
    "    return c.current.getPosition().getR()\n",
    "            \n",
    "# Li-8, half-life = 839.9 ms, E = 1 EeV\n",
    "pid = nucleusId(8, 3)\n",
    "E = 1*EeV\n",
    "\n",
    "# make sample\n",
    "dists = [decay_distance(pid, E)/pc for i in range(3000)]\n",
    "mean_dist = sum(dists)/len(dists)\n",
    "print(\"The mean length until the decay is {:.3g} pc\".format(mean_dist))"
   ]
  },
  {
   "cell_type": "markdown",
   "metadata": {},
   "source": [
    "Depending on the particle energy, unstable Li-8 will travel a certain distance until it decays. The result can also easily be checked analytically because Li-8 has only one decay channel and then compared visually with the ``matplotlib`` plotting library:"
   ]
  },
  {
   "cell_type": "code",
   "execution_count": 82,
   "metadata": {},
   "outputs": [
    {
     "name": "stdout",
     "output_type": "stream",
     "text": [
      "1.57537201026\n"
     ]
    },
    {
     "data": {
      "image/png": "[encoded data removed]",
      "text/plain": [
       "<matplotlib.figure.Figure at 0x7f539704fef0>"
      ]
     },
     "metadata": {},
     "output_type": "display_data"
    }
   ],
   "source": [
    "import numpy as np\n",
    "%matplotlib inline\n",
    "import matplotlib.pyplot as plt\n",
    "\n",
    "def p_decay(dist):\n",
    "    \"\"\"distance should be in pc\"\"\"\n",
    "    halflife = 0.8399 # in s\n",
    "    mass = 8.02248736*amu\n",
    "    E = 1*EeV\n",
    "    \n",
    "    lifetime = halflife #* np.log(2)\n",
    "    gamma = E / (mass * c_squared)\n",
    "    mean_dist = lifetime*gamma*c_light / pc\n",
    "    \n",
    "    return math.exp(-dist/mean_dist)\n",
    "\n",
    "print(0.8399 / np.log(2) *1*EeV / (8.02248736*amu * c_squared)*c_light / pc)\n",
    "\n",
    "n, bins, patches = plt.hist(dists, 80, normed=1, facecolor='orange', alpha=0.75)\n",
    "y = [p_decay(b) for b in bins]\n",
    "_ = plt.plot(bins, y, 'b', linewidth=2)\n",
    "_ = plt.xlabel('Distance / pc')\n",
    "_ = plt.ylabel('Probability')"
   ]
  },
  {
   "cell_type": "markdown",
   "metadata": {},
   "source": [
    "Some modules have an additional functionality besides `process`. For example, there is a possibility to plot the dependence on energy of the abovementioned decay using the same module but without candidate:"
   ]
  },
  {
   "cell_type": "code",
   "execution_count": 44,
   "metadata": {},
   "outputs": [
    {
     "data": {
      "image/png": "[encoded data removed]",
      "text/plain": [
       "<matplotlib.figure.Figure at 0x7f53971810f0>"
      ]
     },
     "metadata": {},
     "output_type": "display_data"
    }
   ],
   "source": [
    "pid = nucleusId(8, 3)\n",
    "mass = nuclearMass(pid)\n",
    "energies = 10**np.linspace(17, 22, 100)*eV\n",
    "meanpath = np.zeros(100)\n",
    "module = NuclearDecay()\n",
    "\n",
    "for i, E in enumerate(energies):\n",
    "    gamma = E / (mass * c_squared)\n",
    "    meanpath[i] = module.meanFreePath(pid, gamma)\n",
    "\n",
    "_ = plt.plot(energies / eV, meanpath / pc)\n",
    "_ = plt.xlabel('Energy [eV]')\n",
    "_ = plt.ylabel('Mean free path [pc]')\n",
    "_ = plt.loglog()"
   ]
  },
  {
   "cell_type": "markdown",
   "metadata": {},
   "source": [
    "### ModuleList and sources\n",
    "\n",
    "For the sake of transparency and simplicity the first two simulation examples use the explicit for-loop to iterate modules, but it is better to delegate this main loop to CRPropa itself due to performance reasons and some additional features. The **module iterator**, named ``ModuleList``, operates basically like above for-loops: desired modules are added to ``ModuleList`` and then a simulation is being run in its run method.\n",
    "\n",
    "Here is an example with several other available modules: ``PhotoPionProduction``, ``ElectronPairProduction`` and ``MaximumTrajectoryLength``."
   ]
  },
  {
   "cell_type": "code",
   "execution_count": 15,
   "metadata": {},
   "outputs": [
    {
     "name": "stdout",
     "output_type": "stream",
     "text": [
      "Charge 2.0 e, Energy: 0.49889470221750665 EeV\n"
     ]
    }
   ],
   "source": [
    "pid = nucleusId(8, 3)\n",
    "E = 1*EeV\n",
    "c = Candidate(pid, E)\n",
    "c.current.setPosition(Vector3d(0, 0, 0)*Mpc)\n",
    "c.current.setDirection(Vector3d(1, 0, 0))\n",
    "\n",
    "sim = ModuleList()\n",
    "sim.add(SimplePropagation())\n",
    "sim.add(NuclearDecay())\n",
    "sim.add(PhotoPionProduction(CMB))\n",
    "sim.add(ElectronPairProduction(CMB))\n",
    "sim.add(MaximumTrajectoryLength(10*Mpc))\n",
    "\n",
    "sim.run(c)\n",
    "\n",
    "print(\"Charge {} e, Energy: {} EeV\"\n",
    "      .format(c.current.getCharge() / eplus, c.current.getEnergy() / EeV))"
   ]
  },
  {
   "cell_type": "markdown",
   "metadata": {},
   "source": [
    "One should take care that there is at least one stopping condition, like ``MaximumTrajectoryLength`` module here, otherwise the loop would never end.\n",
    "\n",
    "Manually preparing and inserting individual candidates into the simulation box, like in above examples, is sometimes useful for specific purposes, but generally an automatic insertion of candidates according to specified properties is a more common scenario. This mechanism is provided by **sources of particles** which are described by ``Source`` class and its derivated classes. ``Source`` accepts different properties, refered as ``SourceFeature``, like a source position, composition and energy spectrum of injected particles, redshift, directions of the injection and so on."
   ]
  },
  {
   "cell_type": "code",
   "execution_count": 16,
   "metadata": {
    "collapsed": true
   },
   "outputs": [],
   "source": [
    "source = Source()\n",
    "source.add(SourceParticleType(nucleusId(1, 1))) # protons only\n",
    "source.add(SourcePowerLawSpectrum(1*EeV, 1000*EeV, -1))\n",
    "source.add(SourceIsotropicEmission())\n",
    "source.add(SourcePosition(Vector3d(5, 5, 5)*Mpc))"
   ]
  },
  {
   "cell_type": "markdown",
   "metadata": {},
   "source": [
    "The Source object is supplied to the ModuleList as an argument of the run method together with the total number of candidates which would be injected. The syntax is the following:"
   ]
  },
  {
   "cell_type": "code",
   "execution_count": 18,
   "metadata": {
    "collapsed": true
   },
   "outputs": [],
   "source": [
    "sim.run(source, 10000, True)"
   ]
  },
  {
   "cell_type": "markdown",
   "metadata": {},
   "source": [
    "The third argument means that the ModuleList should propagate children candidates created in physical interactions - recursively. Processing of children candidates starts after finishing propagation of the original particle.\n",
    "\n",
    "CRPropa optionally utilises [OpenMP](http://openmp.org), a shared-memory parallel processing framework, which enables it to process multiple candidates in parallel if the underlying system and hardware unit supports multithreading. Usually, OpenMP speeds up the simulation almost linearly (up to 8 cores), but in cost of an indeterministic ordering of results in output files. Hence if the ordering is important, like with trajectory output, or in a case of debugging the code to simplify the execution, the parallel processing can be disabled by specifying the environment variable ``OMP_NUM_THREADS=1`` before running the script."
   ]
  },
  {
   "cell_type": "markdown",
   "metadata": {},
   "source": [
    "### Observer and output methods\n",
    "\n",
    "With the source object CRPropa offers systematical injection of candidates, but after reaching a stopping condition they are just discared. Thus, there should also exist antoher side of the pipline where candidates are systematically detected. An object which fulfill the role of detector is called **observer** and it is embodied in the Observer class. The observer is a module serving as an artificial geometrical boundary where different actions can be triggered when candidate cross the boundary, the most common action is to save the state of the detected candidate into a file."
   ]
  },
  {
   "cell_type": "code",
   "execution_count": null,
   "metadata": {
    "collapsed": true
   },
   "outputs": [],
   "source": []
  }
 ],
 "metadata": {
  "kernelspec": {
   "display_name": "Python 3",
   "language": "python",
   "name": "python3"
  },
  "language_info": {
   "codemirror_mode": {
    "name": "ipython",
    "version": 3
   },
   "file_extension": ".py",
   "mimetype": "text/x-python",
   "name": "python",
   "nbconvert_exporter": "python",
   "pygments_lexer": "ipython3",
   "version": "3.6.2"
  }
 },
 "nbformat": 4,
 "nbformat_minor": 2
}

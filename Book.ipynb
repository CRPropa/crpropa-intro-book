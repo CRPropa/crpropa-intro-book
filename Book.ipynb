{
 "cells": [
  {
   "cell_type": "markdown",
   "metadata": {
    "collapsed": true
   },
   "source": [
    " Introduction to CRPropa3 with examples\n",
    "====="
   ]
  },
  {
   "cell_type": "markdown",
   "metadata": {},
   "source": [
    "## Prologue\n",
    "\n",
    "The field of cosmic rays intersects various physical topics since cosmic rays when they traverse the universe, are affected by the whole range of phenomena, from galactic environments to the cosmic microwave background and the expansion of the universe. To investigate and to better understand their behaviour and nature in such a complex context a Monte Carlo type of numerical analysis imposes itself as a logical approach. **CRPropa3** is a numerical framework which fits that purpose. It is a freely available GPLv3-licensed, highly flexible and modular code which preserves the crucial requirement of a Monte Carlo method - the code performance. Since it is so modular CRPropa3 can be used to propagate another type of particles like neutrinos or photons, but here we will focus primarily on cosmic rays.\n",
    "\n",
    "This introductory text will try to explain basics concepts, give an overview of available modules, parameters and settings while demonstrating good practices on how to use CRPropa and eventually try to lure the reader to discover and read the source code of the framework himself. In the same time, the text can lead to a better understanding of ultra-high energy cosmic rays. Yet, one should always keep in mind that a computer code can never substitute the richness of the reality, so understanding underlying assumptions and limitations of code is crucial.\n",
    "\n",
    "Although the most of the code is written in C++, CRPropa can be easily used and extended with Python. The Python interface is also the recommended way how to use the framework, and it will be used in the tutorial. Therefore, intermediate knowledge of Python is somewhat necessary to follow the text."
   ]
  },
  {
   "cell_type": "markdown",
   "metadata": {},
   "source": [
    "## Installation and usage inside Jupyter\n",
    "\n",
    "### Virtualenv - a virtual environment for Python\n",
    "\n",
    "Through the text, we will use different python modules in addition to CRPropa. The simplest way to install the most recent versions of them is to use python package manager called **pip**. Without contaminating the whole system, we will keep the setup in a local context, tied to the user, not system. With it, we also ensure better reproducibility and avoid some common pitfalls. The additional benefit of using it is having different versions of programs installed at the same time without conflicts.\n",
    "\n",
    "Obtain first **virtualenv**, a small set of scripts which will help us to set up an isolated python environment. The preferable way to obtain it is from your distribution's repository, for example:\n",
    "* Ubuntu/Debian: ```# apt install python-virtualenv```,\n",
    "* Fedora/RedHat: ```# dnf install python3-virtualenv```,\n",
    "* Mac OS X: ```# pip install virtualenv``` (if python is already installed, if not, install python first!).\n",
    "\n",
    "We will define a temporary shell variable ``$CRPROPA_DIR`` in which will store the path of the crpropa installation and our isolated python environment, like\n",
    "\n",
    "```$ export CRPROPA_DIR=$HOME/crpropa_env```\n",
    "\n",
    "or any other location where the current user can write.\n",
    "\n",
    "Virtualenv will create a new python virtual environment by typing:\n",
    "\n",
    "```$ virtualenv -p python3 $CRPROPA_DIR```\n",
    "\n",
    "where *python3* can be substituted with *python2* if one wishes or if python3 is not available on the system.\n",
    "\n",
    "From now on, the environment can be started by calling:\n",
    "\n",
    "```$ . $CRPROPA_DIR/bin/activate```\n",
    "\n",
    "where we recall that `$CRPROPA_DIR` is the path where we put the installation. The environment can be deactivated by calling ```deactivate```. For those who want to simplify further the procedure of creating, activating and switching between different python environments look for a package named `virtualenvwrapper`.\n",
    "\n",
    "To install a python package in the environment just use:\n",
    "\n",
    "```$ pip install packagename```\n",
    "\n",
    "for example, we will need those later:\n",
    "\n",
    "```$ pip install numpy matplotlib ipyvolume scipy healpy jupyter pint```\n",
    "\n",
    "Remember, we do need basic development packages like compilers, standard libraries and so on. How to install those will not be covered here, but it can be found in the OS documentation. The error logs can be very helpful, too. On the other hand, the dependencies specific to CRPropa will be discussed in the next section.\n",
    "\n",
    "### Installing or building dependencies\n",
    "\n",
    "CRPropa provides additional features if it is complied with some additional libraries. The full list of the additional libraries can be found [here](https://github.com/CRPropa/CRPropa3/wiki/Installation#Dependencies). If those libraries are not present, CRPropa will automatically disable the additional features they provide. Thus they are not mandatory. Installing those dependencies can be done either from the repository (preferred way) or directly from the source.\n",
    "\n",
    "For example, to install FFTW which provides the ability for CRPropa to generate turbulent magnetic fields, one could install `libfftw3-dev` for Ubuntu (or `fftw-devel` for Fedora) from the repository, or to install if from the source:\n",
    "\n",
    "```$ export FFTW_BUILD=$CRPROPA_DIR/fftw_build\n",
    "$ wget http://www.fftw.org/fftw-3.3.7.tar.gz \\\n",
    "    --no-clobber --directory-prefix=$CRPROPA_DIR\n",
    "$ mkdir $FFTW_BUILD\n",
    "$ tar xvf \"$CRPROPA_DIR/fftw-3.3.7.tar.gz\" --strip 1 -C $FFTW_BUILD\n",
    "$ cd $FFTW_BUILD\n",
    "$ ./configure --prefix=$CRPROPA_DIR \\\n",
    "    --enable-float --enable-shared CFLAGS=-fPIC\n",
    "$ make && make install```\n",
    "\n",
    "The same goes for SWIG, which is required to use the python interface. Therefore, either install a package called `swig` from the repository or install it from source:\n",
    "\n",
    "```$ export SWIG_BUILD=$CRPROPA_DIR/swig_build\n",
    "$ wget http://prdownloads.sourceforge.net/swig/swig-3.0.12.tar.gz \\\n",
    "    --no-clobber --directory-prefix=$CRPROPA_DIR\n",
    "$ mkdir $SWIG_BUILD\n",
    "$ tar xvf \"$CRPROPA_DIR/swig-3.0.12.tar.gz\" --strip 1 -C $SWIG_BUILD\n",
    "$ cd $SWIG_BUILD\n",
    "$ ./configure --prefix=$CRPROPA_DIR\n",
    "$ make && make install```\n",
    "\n",
    "Libraries `zlib` and `muparser` are also advisable to have.\n",
    "\n",
    "### Build and install CRPropa\n",
    "\n",
    "Now everything is ready to build CRPropa. The python environment is deployed, `numpy` library is installed with `pip`, the optional dependencies are provided.\n",
    "\n",
    "The source code of CRPropa can be downloaded from GitHub as an archive or directly by cloning the main repository. We will use the latter method because it allows more flexibility later. One should have ***git*** present so that the following works:\n",
    "\n",
    "```\n",
    "$ cd $CRPROPA_DIR\n",
    "$ git clone https://github.com/CRPropa/CRPropa3.git crpropa3_source\n",
    "$ cd crpropa3_source\n",
    "$ mkdir build && cd build\n",
    "$ CMAKE_PREFIX_PATH=$CRPROPA_DIR cmake -DCMAKE_INSTALL_PREFIX=$CRPROPA_DIR ..\n",
    "$ make && make install```\n",
    "\n",
    "Notice that `CMAKE_PREFIX_PATH` enables `cmake` to find locally installed libraries (if we built them from source), while `CMAKE_INSTALL_PREFIX` specify where CRPropa will be eventually installed.\n",
    "\n",
    "By running `make test` we can check that everything works properly. Sometimes statistical tests can fail and in that case try to run tests again. If it fails again - report a bug [here](https://github.com/CRPropa/CRPropa3/issues).\n",
    "\n",
    "Hopefully, after finishing all the steps, CRPropa is installed and can be accessed through python:\n",
    "\n",
    "```\n",
    "$ python\n",
    "Python 3.6.2 (default, Aug 11 2017, 11:59:59) \n",
    "[GCC 7.1.1 20170622 (Red Hat 7.1.1-3)] on linux\n",
    "Type \"help\", \"copyright\", \"credits\" or \"license\" for more information.\n",
    ">>> import crpropa as crp\n",
    ">>> dir(crp)\n",
    "```\n",
    "where the last command will print all available objects in CRPropa\n",
    "\n",
    "### Deleting CRPropa\n",
    "\n",
    "By removing the directory `$ rm -rf $CRPROPA_DIR` the CPropa3 installation will be permanently deleted with all dependencies that we installed for it.\n",
    "\n",
    "### Jupyter - an interactive notebook\n",
    "\n",
    "**Jupyter** is a handy interactive frontend for python and other programming languages which can be run inside of a web browser. We will use it in this introductory text since crpropa examples can be easily combined with a further analysis and a graphical representation of results, everything within the same notebook. This text is written in it too.\n",
    "\n",
    "If the python environment is prepared as described above, the jupyter notebook is already ready and can be run by typing:\n",
    "\n",
    "`$ jupyter notebook`\n",
    "\n",
    "which will open a new tab in the default web browser with the jupyter web interface.\n",
    "A new python notebook is created by clicking `File > New Notebook > Python`. The newly created notebook name can be changed by renaming the title \"Untitled.\" More details and the full documentation can be found at [the project's website](http://jupyter.org/documentation.html)."
   ]
  },
  {
   "cell_type": "markdown",
   "metadata": {},
   "source": [
    "## Basic concepts\n",
    "\n",
    "By now, CRPropa is installed together with the Juypter interface and we are ready to start.\n",
    "\n",
    "### Candidates and modules\n",
    "\n",
    "To use CRPropa commands, tools and classes within Pyhton, the first step is to import it into the main namespace:"
   ]
  },
  {
   "cell_type": "code",
   "execution_count": 1,
   "metadata": {},
   "outputs": [],
   "source": [
    "from crpropa import *"
   ]
  },
  {
   "cell_type": "markdown",
   "metadata": {},
   "source": [
    "or, alternatively, if one needs better control over different commands and modules `import crpropa as crp` which will require adding the `crp.` prefix before every command or class initiated from CRPropa.\n",
    "\n",
    "The principal object of interest, a cosmic ray, within the framework is called a **candidate**. The candidate is a particle described by an associated physical state. The particle state can be defined by many different properties, but two of the most basic ones are particle's **position** and particle's movement **direction**. The actual state of a candidate is referred as \"current\" one. Here is an example, where Vector3d is a CRPropa object representing a 3D vector:"
   ]
  },
  {
   "cell_type": "code",
   "execution_count": 2,
   "metadata": {},
   "outputs": [],
   "source": [
    "c = Candidate()\n",
    "c.current.setPosition(Vector3d(10, 0, 0))\n",
    "c.current.setDirection(Vector3d(-1, 0, 0))"
   ]
  },
  {
   "cell_type": "markdown",
   "metadata": {},
   "source": [
    "The candidate itself is a passive object which means that external mechanisms (called **modules**) are needed to change its state. An obvious example of such a module in the context of the primary goals of this framework is a rectilinear propagational module - ``SimplePropagation``. Its purpose, as the name suggests, is to propagate the candidate, i.e. change the candidate's position."
   ]
  },
  {
   "cell_type": "code",
   "execution_count": 3,
   "metadata": {},
   "outputs": [],
   "source": [
    "module = SimplePropagation()"
   ]
  },
  {
   "cell_type": "markdown",
   "metadata": {},
   "source": [
    "To describe how modules act on candidates, one should recall those numerical simulations necessarily discretise the continuity of the real world with computational **steps**. The candidate state is changed by modules in steps. In every step, the module process candidate with the **process method**.\n",
    "\n",
    "Before continuing with processing, it is worth mentioning that modules can or even must take arguments during the initialization stage to set-up or change their default behaviour and it depends on the specific module which module's settings can be defined or modified. Module's settings are described in [CRPropa documentation](http://crpropa.github.io/CRPropa3/annotated.html). In the already introduced module, ``SimplePropagation``, one could change the minimum and the maximum distance that the candidate can jump within one step. These changes can also be done later, after the initialization, with so-called **setters** (set methods) or just checked with **getters** (get methods)."
   ]
  },
  {
   "cell_type": "code",
   "execution_count": 4,
   "metadata": {},
   "outputs": [
    {
     "name": "stdout",
     "output_type": "stream",
     "text": [
      "2.0\n"
     ]
    }
   ],
   "source": [
    "module = SimplePropagation(1, 3) # (minStep, maxStep)\n",
    "module.setMaximumStep(2)\n",
    "print(module.getMaximumStep())"
   ]
  },
  {
   "cell_type": "markdown",
   "metadata": {},
   "source": [
    "The process method can be used in a conjunction with any kind of loop, e.g."
   ]
  },
  {
   "cell_type": "code",
   "execution_count": 5,
   "metadata": {},
   "outputs": [
    {
     "name": "stdout",
     "output_type": "stream",
     "text": [
      "In step 1. position is Vector(9, 0, 0)\n",
      "In step 2. position is Vector(7, 0, 0)\n",
      "In step 3. position is Vector(5, 0, 0)\n",
      "In step 4. position is Vector(3, 0, 0)\n",
      "In step 5. position is Vector(1, 0, 0)\n"
     ]
    }
   ],
   "source": [
    "for i in range(5):\n",
    "    module.process(c)\n",
    "    print(\"In step {}. position is {}\".format(i+1, c.current.getPosition()))"
   ]
  },
  {
   "cell_type": "markdown",
   "metadata": {},
   "source": [
    "After five iterations, the position is changed five times in the negative direction of x-axis which is defined by ``setDirection()``. What needs an additional explanation is the propagated distance in these steps. To avoid the clash between different active modules in determining the step size, modules modify the candidate's current step with the minimum prescribed step while setting the maximum one for the next round. In that way, the next step would be bounded by the module which required the smallest maximum step. In this case, the first step was 1 (minStep argument in ``SimplePropagation``), while all the later steps are 2 (given by ``setMaximumStep`` above)."
   ]
  },
  {
   "cell_type": "markdown",
   "metadata": {},
   "source": [
    "At this point, before introducing a new physical content, a slight digression in a form physical units is needed. All physical quantities and parameters used in the code are in SI units, but it is advisable to use units in every part of the code explicitly. If some units are not defined within the framework, one could use external python library such as [pint](http://pint.readthedocs.io) to make conversions."
   ]
  },
  {
   "cell_type": "code",
   "execution_count": 6,
   "metadata": {},
   "outputs": [
    {
     "name": "stdout",
     "output_type": "stream",
     "text": [
      "1 Mpc is 3.085677581491367e+22 meters in the international system of units, while 1 GeV is 1.602176487e-10 joules\n"
     ]
    }
   ],
   "source": [
    "print(\"1 Mpc is {} meters in the international \\\n",
    "system of units, while 1 GeV is {} joules\".format(1*Mpc, 1*GeV))"
   ]
  },
  {
   "cell_type": "code",
   "execution_count": 7,
   "metadata": {},
   "outputs": [
    {
     "name": "stdout",
     "output_type": "stream",
     "text": [
      "Flux = 1 eV^-1 m^-2 s^-1 sr^-1 = 3.1556925974699995e+22 GeV^-1 km^-2 year^-1 sr^-1\n"
     ]
    }
   ],
   "source": [
    "from pint import UnitRegistry\n",
    "ureg = UnitRegistry()\n",
    "\n",
    "def convertunits(unitstring, convertto):\n",
    "        unitfrom = ureg.parse_expression(unitstring)\n",
    "        unitto = unitfrom.to(ureg.parse_expression(convertto))\n",
    "        return unitto.magnitude\n",
    "\n",
    "fromunits = \"eV^-1 m^-2 s^-1 sr^-1\"\n",
    "tounits = \"GeV^-1 km^-2 year^-1 sr^-1\"\n",
    "print(\"Flux = 1 {1} = {0} {2}\".format(\n",
    "    1*convertunits(fromunits, tounits), fromunits, tounits))"
   ]
  },
  {
   "cell_type": "markdown",
   "metadata": {},
   "source": [
    "The candidate can be almost any classified particle or nucleus with the assumption that its energy is much higher than its mass, i.e. $pc=\\sqrt{E^2-(mc^2)^2}\\approx E$, so that it travels at the speed of light in the observer reference frame. The reason behind it is that the propagation code by design cannot take into account time in an explicit manner. Particles are distinguished by a particle ID (PID), a numbering scheme defined by the Particle Data Group. CRPropa uses the [HepPID](http://lcgapp.cern.ch/project/simu/HepPDT/HepPDT.2.06.01/HepPID.pdf) implementation of the scheme. For the nuclei identification CRPropa has its own code but also specified by [PDG](http://pdg.lbl.gov/2008/reviews/rpp2008-rev-monte-carlo-numbering.pdf).\n",
    "\n",
    "After showing ``SimplePropagation`` module, ``NuclearDecay`` is yet another module which is relatively self-contained, hence, can be presented without too much overhead. ``NuclearDecay`` is a module which represents the decay of nucleus. It will act only on unstable nuclei of course. Here is an example:"
   ]
  },
  {
   "cell_type": "code",
   "execution_count": 8,
   "metadata": {},
   "outputs": [
    {
     "name": "stdout",
     "output_type": "stream",
     "text": [
      "Mean distance travelled until the decay 100.00000000000001 pc\n"
     ]
    }
   ],
   "source": [
    "def decay_distance(pid, E):\n",
    "    c = Candidate(pid, E)\n",
    "    c.current.setPosition(Vector3d(0, 0, 0)*Mpc)\n",
    "    c.current.setDirection(Vector3d(1, 0, 0))\n",
    "    init_charge = c.current.getCharge()\n",
    "\n",
    "    module1 = SimplePropagation()\n",
    "    module2 = NuclearDecay()\n",
    "\n",
    "    for step in range(200):\n",
    "        module1.process(c)\n",
    "        module2.process(c)\n",
    "        if c.current.getCharge() != init_charge:\n",
    "            return c.current.getPosition().getR()/pc\n",
    "            \n",
    "# Li-8, half-life = 839.9 ms, E = 1 EeV\n",
    "pid = nucleusId(8, 3)\n",
    "E = 1*EeV\n",
    "\n",
    "# make sample\n",
    "dists = [decay_distance(pid, E) for i in range(5000)]\n",
    "mean_dist = sum(dists)/len(dists)\n",
    "print(\"Mean distance travelled until the decay {} pc\".format(mean_dist))"
   ]
  },
  {
   "cell_type": "markdown",
   "metadata": {},
   "source": [
    "Depending on the energy of the particle, unstable Li-8 will travel a certain distance until it decays. The result can also easily be checked analytically because Li-8 has only one decay channel and compared using ``matplotlib`` plotting library:"
   ]
  },
  {
   "cell_type": "code",
   "execution_count": 9,
   "metadata": {},
   "outputs": [
    {
     "name": "stdout",
     "output_type": "stream",
     "text": [
      "1.091964667243672\n"
     ]
    },
    {
     "data": {
      "text/plain": [
       "Text(0,0.5,'Probability')"
      ]
     },
     "execution_count": 9,
     "metadata": {},
     "output_type": "execute_result"
    },
    {
     "data": {
      "image/png": "[encoded data removed]",
      "text/plain": [
       "<matplotlib.figure.Figure at 0x7f77a50e2358>"
      ]
     },
     "metadata": {},
     "output_type": "display_data"
    }
   ],
   "source": [
    "import math\n",
    "\n",
    "def p_decay(dist):\n",
    "    \"\"\"distance should be in pc\"\"\"\n",
    "    halflife = 0.8399 # in s\n",
    "    mass = 8.02248736*amu\n",
    "    E = 1*EeV\n",
    "    \n",
    "    lifetime = halflife #/ math.log(2)\n",
    "    gamma = E / (mass * c_squared)\n",
    "    mean_dist = lifetime*gamma*c_light / pc\n",
    "    \n",
    "    return math.exp(-dist/mean_dist)\n",
    "\n",
    "print(0.8399*1*EeV / (8.02248736*amu * c_squared)*c_light / pc)\n",
    "    \n",
    "import numpy as np\n",
    "%matplotlib inline\n",
    "import matplotlib.pyplot as plt\n",
    "\n",
    "n, bins, patches = plt.hist(dists, 50, normed=1, facecolor='orange', alpha=0.75)\n",
    "y = [p_decay(b) for b in bins]\n",
    "plt.plot(bins, y, 'b', linewidth=2)\n",
    "plt.xlabel('Distance / pc')\n",
    "plt.ylabel('Probability')"
   ]
  },
  {
   "cell_type": "markdown",
   "metadata": {},
   "source": [
    "Modules sometimes have an additional functionality. For example, there is a possibility to plot the dependence on energy of the abovementioned decay using the same module but without candidate:"
   ]
  },
  {
   "cell_type": "code",
   "execution_count": 10,
   "metadata": {},
   "outputs": [
    {
     "data": {
      "text/plain": [
       "[]"
      ]
     },
     "execution_count": 10,
     "metadata": {},
     "output_type": "execute_result"
    },
    {
     "data": {
      "image/png": "[encoded data removed]",
      "text/plain": [
       "<matplotlib.figure.Figure at 0x7f77a50ccc18>"
      ]
     },
     "metadata": {},
     "output_type": "display_data"
    }
   ],
   "source": [
    "pid = nucleusId(8, 3)\n",
    "mass = nuclearMass(pid)\n",
    "energies = 10**np.linspace(17, 22, 100)*eV\n",
    "meanpath = np.zeros(100)\n",
    "module = NuclearDecay()\n",
    "\n",
    "for i, E in enumerate(energies):\n",
    "    gamma = E / (mass * c_squared)\n",
    "    meanpath[i] = module.meanFreePath(pid, gamma)\n",
    "\n",
    "plt.plot(energies / eV, meanpath / pc)\n",
    "plt.xlabel('Energy [eV]')\n",
    "plt.ylabel('Mean free path [pc]')\n",
    "plt.loglog()"
   ]
  },
  {
   "cell_type": "markdown",
   "metadata": {
    "collapsed": true
   },
   "source": [
    "### ModuleList and sources\n",
    "\n",
    "For the sake of transparency and simplicity the first two simulation examples use the explicit for-loop to iterate modules, but it is better to delegate this main loop to CRPropa itself due to performance reasons and some additional features. The **module iterator**, named ``ModuleList``, operates basically like above for-loops: desired modules are added to ``ModuleList`` and then a simulation is being run in its run method.\n",
    "\n",
    "Here is an example with several other available modules: ``PhotoPionProduction``, ``ElectronPairProduction`` and ``MaximumTrajectoryLength``."
   ]
  },
  {
   "cell_type": "code",
   "execution_count": 11,
   "metadata": {},
   "outputs": [
    {
     "name": "stdout",
     "output_type": "stream",
     "text": [
      "Charge 2.0 e, Energy: 0.49889470221750665 EeV\n"
     ]
    }
   ],
   "source": [
    "pid = nucleusId(8, 3)\n",
    "E = 1*EeV\n",
    "c = Candidate(pid, E)\n",
    "c.current.setPosition(Vector3d(0, 0, 0)*Mpc)\n",
    "c.current.setDirection(Vector3d(1, 0, 0))\n",
    "\n",
    "sim = ModuleList()\n",
    "sim.add(SimplePropagation())\n",
    "sim.add(NuclearDecay())\n",
    "sim.add(PhotoPionProduction(CMB))\n",
    "sim.add(ElectronPairProduction(CMB))\n",
    "sim.add(MaximumTrajectoryLength(10*Mpc))\n",
    "\n",
    "sim.run(c)\n",
    "\n",
    "print(\"Charge {} e, Energy: {} EeV\"\n",
    "      .format(c.current.getCharge() / eplus, c.current.getEnergy() / EeV))"
   ]
  },
  {
   "cell_type": "markdown",
   "metadata": {},
   "source": [
    "One should take care that there is at least one stopping condition, like ``MaximumTrajectoryLength`` module here, otherwise the loop would never end.\n",
    "\n",
    "Manually preparing and inserting individual candidates into the simulation box, like in above examples, is sometimes useful for specific purposes, but generally an automatic insertion of candidates according to specified properties is a more common scenario. This mechanism is provided by **sources of particles** which are described by ``Source`` class and its derivated classes. ``Source`` accepts different properties, refered as ``SourceFeature``, like a source position, composition and energy spectrum of injected particles, redshift, directions of the injection and so on."
   ]
  },
  {
   "cell_type": "code",
   "execution_count": 12,
   "metadata": {},
   "outputs": [],
   "source": [
    "source = Source()\n",
    "source.add(SourceParticleType(nucleusId(1, 1))) # protons only\n",
    "source.add(SourcePowerLawSpectrum(1*EeV, 1000*EeV, -1))\n",
    "source.add(SourceIsotropicEmission())\n",
    "source.add(SourcePosition(Vector3d(5, 5, 5)*Mpc))"
   ]
  },
  {
   "cell_type": "markdown",
   "metadata": {},
   "source": [
    "The Source object is supplied to the ModuleList as an argument of the run method together with the total number of candidates which would be injected. The syntax is the following:"
   ]
  },
  {
   "cell_type": "code",
   "execution_count": 13,
   "metadata": {},
   "outputs": [],
   "source": [
    "sim.run(source, 10000, True)"
   ]
  },
  {
   "cell_type": "markdown",
   "metadata": {},
   "source": [
    "The third argument means that the ModuleList should propagate children candidates created in physical interactions - recursively. Processing of children candidates starts after finishing propagation of the original particle.\n",
    "\n",
    "CRPropa optionally utilises [OpenMP](http://openmp.org), a shared-memory parallel processing framework, which enables it to process multiple candidates in parallel if the underlying system and hardware unit supports multithreading. Usually, OpenMP speeds up the simulation almost linearly (up to 8 cores), but in cost of an indeterministic ordering of results in output files. Hence if the ordering is important, like with trajectory output, or in a case of debugging the code to simplify the execution, the parallel processing can be disabled by specifying the environment variable ``OMP_NUM_THREADS=1`` before running the script."
   ]
  },
  {
   "cell_type": "markdown",
   "metadata": {},
   "source": [
    "### Observer and output methods\n",
    "\n",
    "With the source object CRPropa offers systematical injection of candidates, but after reaching a stopping condition they are just discared. Thus, there should also exist antoher side of the pipline where candidates are systematically detected. An object which fulfill the role of detector is called **observer** and it is embodied in the Observer class. The observer is a module serving as an artificial geometrical boundary where different actions can be triggered when candidate cross the boundary, the most common action is to save the state of the detected candidate into a file."
   ]
  },
  {
   "cell_type": "markdown",
   "metadata": {},
   "source": [
    "## 3D propagation (TODO)\n",
    "\n",
    "Until now, SimplePropagation module was employed for propagating particles. It can be used for 1D simulations as well as propagating particles over the straight lines in 3D, but if magnetic fields are present in scenario which bend the rectilinear trajectories, DeflectionCK module is ment for that"
   ]
  },
  {
   "cell_type": "markdown",
   "metadata": {},
   "source": [
    "### Magnetic fields"
   ]
  },
  {
   "cell_type": "markdown",
   "metadata": {},
   "source": [
    "### Galactic field"
   ]
  },
  {
   "cell_type": "markdown",
   "metadata": {},
   "source": [
    "## Further reading\n",
    "\n",
    "- Tutorials on CRPropa [Wiki](https://github.com/CRPropa/CRPropa3/wiki)"
   ]
  },
  {
   "cell_type": "code",
   "execution_count": null,
   "metadata": {},
   "outputs": [],
   "source": []
  }
 ],
 "metadata": {
  "kernelspec": {
   "display_name": "Python 3",
   "language": "python",
   "name": "python3"
  },
  "language_info": {
   "codemirror_mode": {
    "name": "ipython",
    "version": 3
   },
   "file_extension": ".py",
   "mimetype": "text/x-python",
   "name": "python",
   "nbconvert_exporter": "python",
   "pygments_lexer": "ipython3",
   "version": "3.6.2"
  }
 },
 "nbformat": 4,
 "nbformat_minor": 1
}

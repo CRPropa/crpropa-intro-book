{
 "cells": [
  {
   "cell_type": "markdown",
   "metadata": {
    "collapsed": true
   },
   "source": [
    " Introduction to CRPropa3 with examples\n",
    "====="
   ]
  },
  {
   "cell_type": "markdown",
   "metadata": {},
   "source": [
    "## Prologue\n",
    "\n",
    "The field of cosmic rays intersects various physical topics since cosmic rays, when they traverse the universe, are affected by the whole range of phenomena, from particularities of galactic environments to the cosmic microwave background and the expansion of the universe. To investigate and to better understand their behaviour and nature in such a complex context a Monte Carlo type of numerical analysis imposes itself as a logical approach. **CRPropa3** is a numerical framework which fits that purpose. It is a freely available GPLv3-licensed, highly flexible and modular code which preserves the crucial requirement of a Monte Carlo method - the code performance. Because of its modular nature, CRPropa3 can be used to propagate other types of particles like neutrinos or photons, but it is primarily developed for cosmic rays.\n",
    "\n",
    "This introductory text will try to explain basics concepts, give an overview of available modules, parameters and settings while demonstrating good practices on how to use CRPropa, and eventually try to lure the reader to discover and read the source code of the framework itself. In the same time, the text can lead to a deeper understanding of ultra-high energy cosmic rays. Yet, one should always keep in mind that a computer code can never substitute the richness of the reality, so understanding underlying assumptions and limitations of code is crucial to discover new layers of nature.\n",
    "\n",
    "Although the most of the code is written in C++, CRPropa can be easily used and extended with Python. The Python interface is also the recommended way how to use the framework, and it will be used in the tutorial. Therefore, intermediate knowledge of Python is somewhat necessary to follow the text."
   ]
  },
  {
   "cell_type": "markdown",
   "metadata": {},
   "source": [
    "## Content\n",
    "\n",
    "* [**Installation and usage inside Jupyter**](Install.ipynb)\n",
    "    * Virtualenv - a virtual environment for Python\n",
    "    * Installing or building dependencies\n",
    "    * Build and install CRPropa\n",
    "    * Deleting CRPropa\n",
    "    * Jupyter - an interactive notebook\n",
    "* [**Basic concepts**](Basics.ipynb)\n",
    "    * Candidates and modules\n",
    "    * ModuleList and sources\n",
    "    * Observer and output methods\n",
    "* [**Propagation in 3D and magnetic fields**](3Dpropagation.ipynb)\n",
    "* Further reading"
   ]
  },
  {
   "cell_type": "markdown",
   "metadata": {},
   "source": [
    "## Further reading\n",
    "\n",
    "- Tutorials on [CRPropa's wiki](https://github.com/CRPropa/CRPropa3/wiki)"
   ]
  }
 ],
 "metadata": {
  "kernelspec": {
   "display_name": "Python 3",
   "language": "python",
   "name": "python3"
  },
  "language_info": {
   "codemirror_mode": {
    "name": "ipython",
    "version": 3
   },
   "file_extension": ".py",
   "mimetype": "text/x-python",
   "name": "python",
   "nbconvert_exporter": "python",
   "pygments_lexer": "ipython3",
   "version": "3.6.2"
  }
 },
 "nbformat": 4,
 "nbformat_minor": 1
}

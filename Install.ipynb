{
 "cells": [
  {
   "cell_type": "markdown",
   "metadata": {},
   "source": [
    "## Installation and usage inside Jupyter"
   ]
  },
  {
   "cell_type": "markdown",
   "metadata": {},
   "source": [
    "### Virtualenv - a virtual environment for Python\n",
    "\n",
    "Through the text, we will use different python modules in addition to CRPropa. The simplest way to install the most recent versions of them is to use python package manager called **pip**. Without contaminating the whole system with customly build software, we will keep the setup in a local context, tied to the user, not system. With it, we also ensure better reproducibility and avoid some common pitfalls. The additional benefit of using it is having different versions of programs installed at the same time without conflicts.\n",
    "\n",
    "Obtain first **virtualenv**, a small set of scripts which will help us to set up an isolated python environment. The preferable way to obtain it is from your distribution's repository, for example:\n",
    "* Ubuntu/Debian: ```# apt install python-virtualenv```,\n",
    "* Fedora/RedHat: ```# dnf install python3-virtualenv```,\n",
    "* Mac OS X: ```# pip install virtualenv``` (if python is already installed, if not, install python first! Or if you don't have `pip` installed install it with: ```# sudo easy_install pip```).\n",
    "\n",
    "Note that lines starting with `#` usually require admin access (sudo or root, depending on the system), while `$` means run it with your local user.\n",
    "\n",
    "We will define a temporary shell variable ``$CRPROPA_DIR`` in which will store the path of the crpropa installation and our isolated python environment, like\n",
    "\n",
    "```$ export CRPROPA_DIR=$HOME/crpropa_env```\n",
    "\n",
    "or any other location where the current user can write.\n",
    "\n",
    "Virtualenv will create a new python virtual environment by typing:\n",
    "\n",
    "```$ virtualenv -p python3 $CRPROPA_DIR```\n",
    "\n",
    "where *python3* can be substituted with *python2* if one wishes or if python3 is not available on the system.\n",
    "\n",
    "From now on, the environment can be started by calling:\n",
    "\n",
    "```$ . $CRPROPA_DIR/bin/activate```\n",
    "\n",
    "where we recall that `$CRPROPA_DIR` is the path where we put the installation. The environment can be deactivated by calling ```deactivate```. For those who want to simplify further the procedure of creating, activating and switching between different python environments look for a package named `virtualenvwrapper`.\n",
    "\n",
    "To install a python package in the environment just use:\n",
    "\n",
    "```$ pip install packagename```\n",
    "\n",
    "for example, we will need those later:\n",
    "\n",
    "```$ pip install numpy matplotlib ipyvolume scipy healpy jupyter pint```\n",
    "\n",
    "Remember, we do need basic development packages like compilers, standard libraries and so on. How to install those will not be covered here, but it can be found in the OS documentation. The error logs can be very helpful, too. On the other hand, the dependencies specific to CRPropa will be discussed in the next section."
   ]
  },
  {
   "cell_type": "markdown",
   "metadata": {},
   "source": [
    "### Installing or building dependencies\n",
    "\n",
    "CRPropa provides additional features if it is complied with some additional libraries. The full list of the additional libraries can be found [here](https://github.com/CRPropa/CRPropa3/wiki/Installation#Dependencies). If those libraries are not present, CRPropa will automatically disable the additional features they provide. Thus they are not mandatory. Installing those dependencies can be done either from the repository (preferred way) or directly from the source.\n",
    "\n",
    "For example, to install FFTW which provides the ability for CRPropa to generate turbulent magnetic fields, one could install `libfftw3-dev` for Ubuntu (or `fftw-devel` for Fedora) from the repository, or to install if from the source:\n",
    "\n",
    "```\n",
    "$ export FFTW_BUILD=$CRPROPA_DIR/fftw_build\n",
    "$ wget http://www.fftw.org/fftw-3.3.7.tar.gz \\\n",
    "    --no-clobber --directory-prefix=$CRPROPA_DIR\n",
    "$ mkdir $FFTW_BUILD\n",
    "$ tar xvf \"$CRPROPA_DIR/fftw-3.3.7.tar.gz\" --strip 1 -C $FFTW_BUILD\n",
    "$ cd $FFTW_BUILD\n",
    "$ ./configure --prefix=$CRPROPA_DIR \\\n",
    "    --enable-float --enable-shared CFLAGS=-fPIC\n",
    "$ make && make install\n",
    "```\n",
    "\n",
    "The same goes for SWIG, which is required to use the python interface. Therefore, either install a package called `swig` from the repository or install it from source:\n",
    "\n",
    "```\n",
    "$ export SWIG_BUILD=$CRPROPA_DIR/swig_build\n",
    "$ wget http://prdownloads.sourceforge.net/swig/swig-3.0.12.tar.gz \\\n",
    "    --no-clobber --directory-prefix=$CRPROPA_DIR\n",
    "$ mkdir $SWIG_BUILD\n",
    "$ tar xvf \"$CRPROPA_DIR/swig-3.0.12.tar.gz\" --strip 1 -C $SWIG_BUILD\n",
    "$ cd $SWIG_BUILD\n",
    "$ ./configure --prefix=$CRPROPA_DIR\n",
    "$ make && make install\n",
    "```\n",
    "\n",
    "Libraries `zlib` and `muparser` are also advisable to have."
   ]
  },
  {
   "cell_type": "markdown",
   "metadata": {},
   "source": [
    "### Build and install CRPropa\n",
    "\n",
    "Now everything is ready to build CRPropa. The python environment is deployed, `numpy` library is installed with `pip`, the optional dependencies are provided.\n",
    "\n",
    "The source code of CRPropa can be downloaded from GitHub as an archive or directly by cloning the main repository. We will use the latter method because it allows more flexibility later. One should have ***git*** present so that the following works:\n",
    "\n",
    "```\n",
    "$ cd $CRPROPA_DIR\n",
    "$ git clone https://github.com/CRPropa/CRPropa3.git crpropa3_source\n",
    "$ cd crpropa3_source\n",
    "$ mkdir build && cd build\n",
    "$ CMAKE_PREFIX_PATH=$CRPROPA_DIR cmake -DCMAKE_INSTALL_PREFIX=$CRPROPA_DIR ..\n",
    "$ make && make install```\n",
    "\n",
    "Notice that `CMAKE_PREFIX_PATH` enables `cmake` to find locally installed libraries (if we built them from source), while `CMAKE_INSTALL_PREFIX` specify where CRPropa will be eventually installed. In some cases, especially on Macs, one would like to specify path to C/C++ compilers manually to avoid that CMake finds unwanted compilers automatically. It is done by exporting two env variables `CC` and `CXX`, for example:\n",
    "\n",
    "```\n",
    "$ export CC=/usr/bin/clang\n",
    "$ export CXX=/usr/bin/clang++\n",
    "```\n",
    "\n",
    "if `clang` instead of `gcc` is desired. The same can be done for a fortran compiler which is specified with `FC`.\n",
    "\n",
    "By running `make test` we can check that everything works properly. Sometimes statistical tests can fail and in that case try to run tests again. If it fails again - report a bug [here](https://github.com/CRPropa/CRPropa3/issues).\n",
    "\n",
    "Hopefully, after finishing all the steps, CRPropa is installed and can be accessed through python:\n",
    "\n",
    "```\n",
    "$ python\n",
    "Python 3.6.2 (default, Aug 11 2017, 11:59:59) \n",
    "[GCC 7.1.1 20170622 (Red Hat 7.1.1-3)] on linux\n",
    "Type \"help\", \"copyright\", \"credits\" or \"license\" for more information.\n",
    ">>> import crpropa as crp\n",
    ">>> dir(crp)\n",
    "```\n",
    "where the last command will print all available objects in CRPropa"
   ]
  },
  {
   "cell_type": "markdown",
   "metadata": {},
   "source": [
    "### Deleting CRPropa\n",
    "\n",
    "By removing the directory `$ rm -rf $CRPROPA_DIR` the CPropa3 installation will be permanently deleted with all dependencies that we installed for it.\n"
   ]
  },
  {
   "cell_type": "markdown",
   "metadata": {},
   "source": [
    "### Jupyter - an interactive notebook\n",
    "\n",
    "**Jupyter** is a handy interactive frontend for python and other programming languages which can be run inside of a web browser. We will use it in this introductory text since crpropa examples can be easily combined with a further analysis and a graphical representation of results, everything within the same notebook. This text is written in it too.\n",
    "\n",
    "If the python environment is prepared as described above, the jupyter notebook is already ready and can be run by typing:\n",
    "\n",
    "`$ jupyter notebook`\n",
    "\n",
    "which will open a new tab in the default web browser with the jupyter web interface.\n",
    "A new python notebook is created by clicking `File > New Notebook > Python`. The newly created notebook name can be changed by renaming the title \"Untitled.\" More details and the full documentation can be found at [the project's website](http://jupyter.org/documentation.html)."
   ]
  }
 ],
 "metadata": {
  "kernelspec": {
   "display_name": "Python 3",
   "language": "python",
   "name": "python3"
  },
  "language_info": {
   "codemirror_mode": {
    "name": "ipython",
    "version": 3
   },
   "file_extension": ".py",
   "mimetype": "text/x-python",
   "name": "python",
   "nbconvert_exporter": "python",
   "pygments_lexer": "ipython3",
   "version": "3.6.2"
  }
 },
 "nbformat": 4,
 "nbformat_minor": 2
}
